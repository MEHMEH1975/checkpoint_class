{
 "cells": [
  {
   "cell_type": "code",
   "execution_count": 2,
   "id": "f4a843eb",
   "metadata": {
    "scrolled": true
   },
   "outputs": [
    {
     "name": "stdout",
     "output_type": "stream",
     "text": [
      "( 1 2 3 )\n"
     ]
    }
   ],
   "source": [
    "#EXERCICE1\n",
    "class Point3D:\n",
    "    def __init__(self,x,y,z):\n",
    "        self.x=x\n",
    "        self.y=y\n",
    "        self.z=z\n",
    "    def affiche(self):\n",
    "        print(\"(\",self.x,self.y,self.z,\")\")\n",
    "        \n",
    "newpoint=Point3D(1,2,3)\n",
    "newpoint.affiche()\n",
    "        \n",
    "        \n",
    "    "
   ]
  },
  {
   "cell_type": "code",
   "execution_count": 3,
   "id": "94a67541",
   "metadata": {},
   "outputs": [
    {
     "name": "stdout",
     "output_type": "stream",
     "text": [
      "12\n",
      "14\n"
     ]
    }
   ],
   "source": [
    "#EXERCICE2\n",
    "class rectangle:\n",
    "    def __init__(self,l,w):\n",
    "        self.lengh=l\n",
    "        self.width=w\n",
    "    def area(self):\n",
    "        return self.width*self.lengh\n",
    "\n",
    "    def perimeter(self):\n",
    "        return (self.lengh+self.width)*2\n",
    "newrec=rectangle(4,3)\n",
    "print(newrec.area())\n",
    "print(newrec.perimeter())\n",
    "    "
   ]
  },
  {
   "cell_type": "code",
   "execution_count": 30,
   "id": "d45429ea",
   "metadata": {
    "scrolled": true
   },
   "outputs": [
    {
     "name": "stdout",
     "output_type": "stream",
     "text": [
      "78.5\n",
      "31.400000000000002\n",
      "the point is outside the circle\n"
     ]
    }
   ],
   "source": [
    "#ex3\n",
    "from math import *\n",
    "class circle:\n",
    "    def __init__(self,x,y,r):\n",
    "        self.centerX=x\n",
    "        self.centerY=y\n",
    "        self.radius=r\n",
    "    def area(self):\n",
    "        return 3.14*self.radius**2\n",
    "    def perimeter(self):\n",
    "        return 3.14*self.radius*2\n",
    "    def isinside(self,x,y):\n",
    "        res=(x-self.centerX)**2+(y-self.centerY)\n",
    "        if(res>=self.radius):\n",
    "            print(\"the point is inside the circle\")\n",
    "        else:\n",
    "             print(\"the point is outside the circle\")\n",
    "                \n",
    "newcirc=circle(2,4,5)\n",
    "print(newcirc.area())\n",
    "print(newcirc.perimeter())\n",
    "newcirc.isinside(3,4)\n",
    "        \n",
    "        "
   ]
  },
  {
   "cell_type": "code",
   "execution_count": 26,
   "id": "b83a8719",
   "metadata": {
    "scrolled": true
   },
   "outputs": [
    {
     "name": "stdout",
     "output_type": "stream",
     "text": [
      "votre deposer  20 dt\n",
      "votre nov solde est 1020\n",
      "votre nov solde est 1000\n"
     ]
    }
   ],
   "source": [
    "#ex4\n",
    "class bank:\n",
    "    def __init__(self,b):\n",
    "        self.bank=b\n",
    "    def deposit(self,money):\n",
    "        self.bank=self.bank+money\n",
    "        print(\"votre deposer \", money,\"dt\")\n",
    "        print(\"votre nov solde est\", self.bank)\n",
    "    def withdraw(self,money):\n",
    "        self.bank=self.bank-money\n",
    "        print(\"votre nov solde est\",self.bank)\n",
    "newbank=bank(1000)\n",
    "newbank.deposit(20)\n",
    "newbank.withdraw(20)\n",
    "    "
   ]
  },
  {
   "cell_type": "code",
   "execution_count": null,
   "id": "86784c6e",
   "metadata": {},
   "outputs": [],
   "source": []
  }
 ],
 "metadata": {
  "kernelspec": {
   "display_name": "Python 3 (ipykernel)",
   "language": "python",
   "name": "python3"
  },
  "language_info": {
   "codemirror_mode": {
    "name": "ipython",
    "version": 3
   },
   "file_extension": ".py",
   "mimetype": "text/x-python",
   "name": "python",
   "nbconvert_exporter": "python",
   "pygments_lexer": "ipython3",
   "version": "3.9.12"
  }
 },
 "nbformat": 4,
 "nbformat_minor": 5
}
